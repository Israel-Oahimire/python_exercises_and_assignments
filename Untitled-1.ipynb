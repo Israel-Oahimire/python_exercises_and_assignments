{
 "cells": [
  {
   "cell_type": "code",
   "execution_count": 6,
   "metadata": {},
   "outputs": [
    {
     "name": "stdout",
     "output_type": "stream",
     "text": [
      "1000\n"
     ]
    }
   ],
   "source": [
    "def intFunc(x, y):\n",
    "    z = x * y\n",
    "    a = x + y\n",
    "\n",
    "    if z <= 1000:\n",
    "        return z\n",
    "    \n",
    "    else:\n",
    "        return a\n",
    "\n",
    "a = intFunc(10, 100)\n",
    "print(a)\n",
    "\n"
   ]
  },
  {
   "cell_type": "code",
   "execution_count": 3,
   "metadata": {},
   "outputs": [
    {
     "name": "stdout",
     "output_type": "stream",
     "text": [
      "Current Number is 1. The Previous number was 0. The sum is 1\n",
      "Current Number is 2. The Previous number was 1. The sum is 3\n",
      "Current Number is 3. The Previous number was 2. The sum is 5\n",
      "Current Number is 4. The Previous number was 3. The sum is 7\n",
      "Current Number is 5. The Previous number was 4. The sum is 9\n",
      "Current Number is 6. The Previous number was 5. The sum is 11\n",
      "Current Number is 7. The Previous number was 6. The sum is 13\n",
      "Current Number is 8. The Previous number was 7. The sum is 15\n",
      "Current Number is 9. The Previous number was 8. The sum is 17\n",
      "Current Number is 10. The Previous number was 9. The sum is 19\n"
     ]
    }
   ],
   "source": [
    "i = 1\n",
    "for x in range(10):\n",
    "    k = i + (i-1)\n",
    "    print(f\"Current Number is {i}. The Previous number was {i-1}. The sum is {k}\")\n",
    "    i += 1"
   ]
  },
  {
   "cell_type": "code",
   "execution_count": 6,
   "metadata": {},
   "outputs": [],
   "source": [
    "myInput = input()\n",
    "i = 0\n",
    "for x in myInput:\n",
    "    if i % 2 != 0:\n",
    "        pass\n",
    "\n",
    "    else:\n",
    "        print(x)\n",
    "    \n",
    "    i += 1\n",
    "        \n"
   ]
  },
  {
   "cell_type": "code",
   "execution_count": 8,
   "metadata": {},
   "outputs": [
    {
     "name": "stdout",
     "output_type": "stream",
     "text": [
      "True\n",
      "False\n"
     ]
    }
   ],
   "source": [
    "def num_check(x):\n",
    "    if x[0] == x[-1]:\n",
    "        return True\n",
    "\n",
    "    else:\n",
    "        return False\n",
    "\n",
    "numbers_x = [10, 20, 30, 40, 10]\n",
    "numbers_y = [75, 65, 35, 75, 30]\n",
    "\n",
    "print(num_check(numbers_x))\n",
    "print(num_check(numbers_y))"
   ]
  },
  {
   "cell_type": "code",
   "execution_count": 11,
   "metadata": {},
   "outputs": [
    {
     "name": "stdout",
     "output_type": "stream",
     "text": [
      "10\n",
      "20\n",
      "55\n"
     ]
    }
   ],
   "source": [
    "#Given list is  [10, 20, 33, 46, 55]\n",
    "def divFunc(x):\n",
    "    for y in x:\n",
    "        if y % 5 == 0:\n",
    "            print(y)\n",
    "        else:\n",
    "            pass\n",
    "\n",
    "intList = [10, 20, 33, 46, 55]\n",
    "divFunc(intList)"
   ]
  },
  {
   "cell_type": "code",
   "execution_count": 20,
   "metadata": {},
   "outputs": [
    {
     "name": "stdout",
     "output_type": "stream",
     "text": [
      "swim appeared 2 times.\n"
     ]
    }
   ],
   "source": [
    "def stringFunc(x, y):\n",
    "    z = x.count(y)\n",
    "    print(f\"{y} appeared {z} times.\")\n",
    "\n",
    "stringFunc(\"They love to swim, yes they love to swim\",\"swim\")\n"
   ]
  },
  {
   "cell_type": "code",
   "execution_count": 35,
   "metadata": {},
   "outputs": [
    {
     "name": "stdout",
     "output_type": "stream",
     "text": [
      "1   \n",
      "\n",
      "\n",
      "2   2   \n",
      "\n",
      "\n",
      "3   3   3   \n",
      "\n",
      "\n",
      "4   4   4   4   \n",
      "\n",
      "\n",
      "5   5   5   5   5   \n",
      "\n",
      "\n"
     ]
    }
   ],
   "source": [
    "def loopFunc(r, y):\n",
    "    i = 1\n",
    "    for x in range(r, y):\n",
    "        print(f\"{x}   \" * i)\n",
    "        print(\"\\n\")\n",
    "        i += 1\n",
    "\n",
    "loopFunc(1, 6)"
   ]
  },
  {
   "cell_type": "code",
   "execution_count": 33,
   "metadata": {},
   "outputs": [
    {
     "name": "stdout",
     "output_type": "stream",
     "text": [
      "\n",
      "\n",
      "1 \n",
      "\n",
      "2 2 \n",
      "\n",
      "3 3 3 \n",
      "\n",
      "4 4 4 4 \n",
      "\n",
      "5 5 5 5 5 \n",
      "\n",
      "6 6 6 6 6 6 \n",
      "\n",
      "7 7 7 7 7 7 7 \n",
      "\n",
      "8 8 8 8 8 8 8 8 \n",
      "\n",
      "9 9 9 9 9 9 9 9 9 \n",
      "\n"
     ]
    }
   ],
   "source": [
    "for num in range(10):\n",
    "    for i in range(num):\n",
    "        print (num, end=\" \") #print number\n",
    "    # new line after each row to display pattern correctly\n",
    "    print(\"\\n\")"
   ]
  },
  {
   "cell_type": "code",
   "execution_count": 40,
   "metadata": {},
   "outputs": [
    {
     "name": "stdout",
     "output_type": "stream",
     "text": [
      "525 is Palindrome\n"
     ]
    }
   ],
   "source": [
    "# Palindrome Example\n",
    "def palinFunc(x):\n",
    "    original_num = x\n",
    "    reverse = 0\n",
    "    while x > 0:\n",
    "        remain = x % 10\n",
    "        reverse = (reverse * 10) + remain\n",
    "        x = x // 10\n",
    "    \n",
    "    if  original_num == reverse:\n",
    "        print(f\"Yes {original_num} is palindrome\")\n",
    "    else:\n",
    "        print(f\"No, {original_num} is not palindrome\") \n"
   ]
  },
  {
   "cell_type": "code",
   "execution_count": 5,
   "metadata": {},
   "outputs": [
    {
     "name": "stdout",
     "output_type": "stream",
     "text": [
      "[25, 35, 40, 60, 90]\n"
     ]
    }
   ],
   "source": [
    "list1 = [10, 20, 25, 30, 35]\n",
    "list2 = [40, 45, 60, 75, 90]\n",
    "\n",
    "def appendFunc(x,y):\n",
    "    xpro = []\n",
    "    ypro = []\n",
    "    for a in x:\n",
    "        if a%2 != 0:\n",
    "            xpro.append(a)\n",
    "        else:\n",
    "            pass\n",
    "    for a in y:\n",
    "        if a%2 == 0:\n",
    "            ypro.append(a)\n",
    "        else:\n",
    "            pass\n",
    "    z = xpro + ypro\n",
    "    print(z)\n",
    "\n",
    "appendFunc(list1, list2)\n",
    "    "
   ]
  },
  {
   "cell_type": "code",
   "execution_count": 6,
   "metadata": {},
   "outputs": [
    {
     "name": "stdout",
     "output_type": "stream",
     "text": [
      "[25, 35, 40, 60, 90]\n"
     ]
    }
   ],
   "source": [
    "# a shorter method of the example above\n",
    "list1 = [10, 20, 25, 30, 35]\n",
    "list2 = [40, 45, 60, 75, 90]\n",
    "\n",
    "def appendFunc(x,y):\n",
    "    merged = []\n",
    "\n",
    "    for a in x:\n",
    "        if a%2 != 0:\n",
    "            merged.append(a)\n",
    "        else:\n",
    "            pass\n",
    "    for a in y:\n",
    "        if a%2 == 0:\n",
    "            merged.append(a)\n",
    "        else:\n",
    "            pass\n",
    "    print(merged)\n",
    "\n",
    "appendFunc(list1, list2)\n"
   ]
  },
  {
   "cell_type": "code",
   "execution_count": 35,
   "metadata": {},
   "outputs": [
    {
     "name": "stdout",
     "output_type": "stream",
     "text": [
      "happinessh\n",
      "h\n",
      "hpies\n",
      "hssenippah\n",
      "se\n"
     ]
    }
   ],
   "source": [
    "# String Testing\n",
    "string = \"happinessh\"\n",
    "print(string[0::1]) # start at default #, stop at default\n",
    "print(string[-1::1])\n",
    "print(string[::2]) #starts at default value, prints indexes divisible by 2\n",
    "print(string[::-1])\n",
    "print(string[-3:-5:-1])"
   ]
  },
  {
   "cell_type": "code",
   "execution_count": 47,
   "metadata": {},
   "outputs": [
    {
     "name": "stdout",
     "output_type": "stream",
     "text": [
      "tive\n"
     ]
    }
   ],
   "source": [
    "# Removing the first n characters from a string\n",
    "def removeFunc(x, y):\n",
    "    x = str(x)\n",
    "    x = x[y::1]\n",
    "    print(x)\n",
    "\n",
    "removeFunc(\"pynative\", 4)"
   ]
  },
  {
   "cell_type": "code",
   "execution_count": 65,
   "metadata": {},
   "outputs": [
    {
     "name": "stdout",
     "output_type": "stream",
     "text": [
      "4 0 1 2 "
     ]
    }
   ],
   "source": [
    "def rev(x):\n",
    "    original_num = x\n",
    "    while x > 0:\n",
    "        remain = x % 10\n",
    "        x = x // 10\n",
    "        print(remain, end=\" \")\n",
    "rev(2104)"
   ]
  },
  {
   "cell_type": "code",
   "execution_count": 58,
   "metadata": {},
   "outputs": [
    {
     "name": "stdout",
     "output_type": "stream",
     "text": [
      "Given number 12\n",
      "2 1 "
     ]
    }
   ],
   "source": [
    "number = 12\n",
    "print(\"Given number\", number)\n",
    "while number > 0:\n",
    "    # get the last digit\n",
    "    digit = number % 10\n",
    "    # remove the last digit and repeat the loop\n",
    "    number = number // 10\n",
    "    print(digit, end=\" \")"
   ]
  },
  {
   "cell_type": "code",
   "execution_count": null,
   "metadata": {},
   "outputs": [],
   "source": []
  }
 ],
 "metadata": {
  "kernelspec": {
   "display_name": "Python 3",
   "language": "python",
   "name": "python3"
  },
  "language_info": {
   "codemirror_mode": {
    "name": "ipython",
    "version": 3
   },
   "file_extension": ".py",
   "mimetype": "text/x-python",
   "name": "python",
   "nbconvert_exporter": "python",
   "pygments_lexer": "ipython3",
   "version": "3.7.0"
  },
  "vscode": {
   "interpreter": {
    "hash": "c3ad9b97a804b08ecde57791f38ff98027a59ae53cff71cbf060ecad5cdb318e"
   }
  }
 },
 "nbformat": 4,
 "nbformat_minor": 2
}
