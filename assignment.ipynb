{
 "cells": [
  {
   "cell_type": "code",
   "execution_count": 1,
   "metadata": {},
   "outputs": [
    {
     "name": "stdout",
     "output_type": "stream",
     "text": [
      "Input a Number\n",
      "22\n",
      "22 is an even number\n",
      "\n",
      "Input a Number\n",
      "23\n",
      "23 is an odd number\n",
      "\n",
      "Input a Number\n",
      "done\n",
      "Laters!\n"
     ]
    }
   ],
   "source": [
    "def evenOrOdd(N):\n",
    "    if N%2 == 0:\n",
    "        return f\"{N} is an even number\\n\"\n",
    "    else:\n",
    "        return f\"{N} is an odd number\\n\"\n",
    "    \n",
    "done = \"No\"\n",
    "\n",
    "while done == \"No\":\n",
    "    print(\"Input a Number\")\n",
    "    num = input()\n",
    "    if num == \"done\":\n",
    "        print(\"Laters!\")\n",
    "        done = \"Yes\"\n",
    "    else:\n",
    "        num = int(num)\n",
    "        print(evenOrOdd(num))"
   ]
  },
  {
   "cell_type": "code",
   "execution_count": null,
   "metadata": {},
   "outputs": [],
   "source": []
  }
 ],
 "metadata": {
  "kernelspec": {
   "display_name": "Python 3",
   "language": "python",
   "name": "python3"
  },
  "language_info": {
   "codemirror_mode": {
    "name": "ipython",
    "version": 3
   },
   "file_extension": ".py",
   "mimetype": "text/x-python",
   "name": "python",
   "nbconvert_exporter": "python",
   "pygments_lexer": "ipython3",
   "version": "3.7.0"
  }
 },
 "nbformat": 4,
 "nbformat_minor": 2
}
